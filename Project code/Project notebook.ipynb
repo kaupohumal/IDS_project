{
 "cells": [
  {
   "cell_type": "code",
   "execution_count": 7,
   "id": "34ea5e37",
   "metadata": {},
   "outputs": [
    {
     "data": {
      "text/html": [
       "<div>\n",
       "<style scoped>\n",
       "    .dataframe tbody tr th:only-of-type {\n",
       "        vertical-align: middle;\n",
       "    }\n",
       "\n",
       "    .dataframe tbody tr th {\n",
       "        vertical-align: top;\n",
       "    }\n",
       "\n",
       "    .dataframe thead th {\n",
       "        text-align: right;\n",
       "    }\n",
       "</style>\n",
       "<table border=\"1\" class=\"dataframe\">\n",
       "  <thead>\n",
       "    <tr style=\"text-align: right;\">\n",
       "      <th></th>\n",
       "      <th>Kooli ID</th>\n",
       "      <th>Kooli nimi</th>\n",
       "      <th>Maakond</th>\n",
       "      <th>Asutuse tüüp</th>\n",
       "      <th>Seadmete nimekiri</th>\n",
       "      <th>Toetus 2014</th>\n",
       "      <th>Toetus 2015</th>\n",
       "      <th>Toetus 2016</th>\n",
       "      <th>Toetus 2017</th>\n",
       "      <th>Toetus 2018</th>\n",
       "      <th>Toetus 2019</th>\n",
       "      <th>Toetus 2020</th>\n",
       "      <th>Toetus 2021</th>\n",
       "    </tr>\n",
       "  </thead>\n",
       "  <tbody>\n",
       "    <tr>\n",
       "      <th>0</th>\n",
       "      <td>437</td>\n",
       "      <td>Abja Gümnaasium</td>\n",
       "      <td>Viljandi maakond</td>\n",
       "      <td>gümnaasium</td>\n",
       "      <td>LEGO Mindstorm EV3 baaskomplekt (9 tk), lisako...</td>\n",
       "      <td>3,000.00 €</td>\n",
       "      <td>NaN</td>\n",
       "      <td>NaN</td>\n",
       "      <td>NaN</td>\n",
       "      <td>NaN</td>\n",
       "      <td>2,154.24 €</td>\n",
       "      <td>NaN</td>\n",
       "      <td>NaN</td>\n",
       "    </tr>\n",
       "    <tr>\n",
       "      <th>1</th>\n",
       "      <td>335</td>\n",
       "      <td>Antsla Gümnaasium</td>\n",
       "      <td>Võru maakond</td>\n",
       "      <td>gümnaasium</td>\n",
       "      <td>LEGO Mindstorms EV3 baaskomplekt (4 tk), EV3 l...</td>\n",
       "      <td>NaN</td>\n",
       "      <td>1,279.20 €</td>\n",
       "      <td>NaN</td>\n",
       "      <td>NaN</td>\n",
       "      <td>1,589.00 €</td>\n",
       "      <td>NaN</td>\n",
       "      <td>NaN</td>\n",
       "      <td>NaN</td>\n",
       "    </tr>\n",
       "    <tr>\n",
       "      <th>2</th>\n",
       "      <td>199</td>\n",
       "      <td>Aravete Keskkool</td>\n",
       "      <td>Järva maakond</td>\n",
       "      <td>gümnaasium</td>\n",
       "      <td>LEGO Mindstorms EV3 baaskomplekt (8 tk), EV3 l...</td>\n",
       "      <td>NaN</td>\n",
       "      <td>3,535.26 €</td>\n",
       "      <td>NaN</td>\n",
       "      <td>NaN</td>\n",
       "      <td>1,880.35 €</td>\n",
       "      <td>NaN</td>\n",
       "      <td>2,857.68 €</td>\n",
       "      <td>4,410 €</td>\n",
       "    </tr>\n",
       "    <tr>\n",
       "      <th>3</th>\n",
       "      <td>256</td>\n",
       "      <td>August Kitzbergi nimeline Gümnaasium</td>\n",
       "      <td>Viljandi maakond</td>\n",
       "      <td>gümnaasium</td>\n",
       "      <td>Kodulabor III  (1 tk) ja LEGO Mindstorms EV3 b...</td>\n",
       "      <td>1,151.40 €</td>\n",
       "      <td>NaN</td>\n",
       "      <td>NaN</td>\n",
       "      <td>NaN</td>\n",
       "      <td>NaN</td>\n",
       "      <td>NaN</td>\n",
       "      <td>NaN</td>\n",
       "      <td>NaN</td>\n",
       "    </tr>\n",
       "    <tr>\n",
       "      <th>4</th>\n",
       "      <td>597</td>\n",
       "      <td>Avinurme Gümnaasium</td>\n",
       "      <td>Jõgeva maakond</td>\n",
       "      <td>gümnaasium</td>\n",
       "      <td>LEGO Mindstorms EV3 baaskomplekt (3 tk), EV3 l...</td>\n",
       "      <td>NaN</td>\n",
       "      <td>1,146.53 €</td>\n",
       "      <td>NaN</td>\n",
       "      <td>NaN</td>\n",
       "      <td>NaN</td>\n",
       "      <td>NaN</td>\n",
       "      <td>NaN</td>\n",
       "      <td>NaN</td>\n",
       "    </tr>\n",
       "  </tbody>\n",
       "</table>\n",
       "</div>"
      ],
      "text/plain": [
       "  Kooli ID                            Kooli nimi           Maakond  \\\n",
       "0      437                       Abja Gümnaasium  Viljandi maakond   \n",
       "1      335                     Antsla Gümnaasium      Võru maakond   \n",
       "2      199                      Aravete Keskkool     Järva maakond   \n",
       "3      256  August Kitzbergi nimeline Gümnaasium  Viljandi maakond   \n",
       "4      597                   Avinurme Gümnaasium    Jõgeva maakond   \n",
       "\n",
       "  Asutuse tüüp                                  Seadmete nimekiri Toetus 2014  \\\n",
       "0   gümnaasium  LEGO Mindstorm EV3 baaskomplekt (9 tk), lisako...  3,000.00 €   \n",
       "1   gümnaasium  LEGO Mindstorms EV3 baaskomplekt (4 tk), EV3 l...         NaN   \n",
       "2   gümnaasium  LEGO Mindstorms EV3 baaskomplekt (8 tk), EV3 l...         NaN   \n",
       "3   gümnaasium  Kodulabor III  (1 tk) ja LEGO Mindstorms EV3 b...  1,151.40 €   \n",
       "4   gümnaasium  LEGO Mindstorms EV3 baaskomplekt (3 tk), EV3 l...         NaN   \n",
       "\n",
       "  Toetus 2015 Toetus 2016 Toetus 2017 Toetus 2018 Toetus 2019 Toetus 2020  \\\n",
       "0         NaN         NaN         NaN         NaN  2,154.24 €         NaN   \n",
       "1  1,279.20 €         NaN         NaN  1,589.00 €         NaN         NaN   \n",
       "2  3,535.26 €         NaN         NaN  1,880.35 €         NaN  2,857.68 €   \n",
       "3         NaN         NaN         NaN         NaN         NaN         NaN   \n",
       "4  1,146.53 €         NaN         NaN         NaN         NaN         NaN   \n",
       "\n",
       "  Toetus 2021  \n",
       "0         NaN  \n",
       "1         NaN  \n",
       "2     4,410 €  \n",
       "3         NaN  \n",
       "4         NaN  "
      ]
     },
     "execution_count": 7,
     "metadata": {},
     "output_type": "execute_result"
    }
   ],
   "source": [
    "import numpy as np\n",
    "import pandas as pd\n",
    "from IPython.core.interactiveshell import InteractiveShell\n",
    "InteractiveShell.ast_node_interactivity = \"all\"\n",
    "\n",
    "data = pd.read_csv(\"data.tsv\", sep = \"\\t\")\n",
    "\n",
    "data.head()"
   ]
  },
  {
   "cell_type": "code",
   "execution_count": null,
   "id": "f0429f2c",
   "metadata": {},
   "outputs": [],
   "source": [
    "#Translations of column names:\n",
    "\n",
    "#Kooli ID - school's ID\n",
    "#Maakond - county\n",
    "#Asutuse tüüp - Type of school (high school, middle school, vocational school etc)\n",
    "#Seadmete nimekiri - list of devices\n",
    "#Toetus - funding"
   ]
  },
  {
   "cell_type": "code",
   "execution_count": 12,
   "id": "e93b22d8",
   "metadata": {},
   "outputs": [
    {
     "name": "stdout",
     "output_type": "stream",
     "text": [
      "Maakonnad:\n"
     ]
    },
    {
     "data": {
      "text/plain": [
       "Harju maakond         201\n",
       "Tartu maakond          96\n",
       "Ida-Viru maakond       64\n",
       "Pärnu maakond          60\n",
       "Lääne-Viru maakond     41\n",
       "Viljandi maakond       33\n",
       "Rapla maakond          32\n",
       "Võru maakond           28\n",
       "Jõgeva maakond         25\n",
       "Järva maakond          24\n",
       "Põlva maakond          23\n",
       "Lääne maakond          22\n",
       "Saare maakond          18\n",
       "Valga maakond          15\n",
       "Hiiu maakond            9\n",
       "Name: Maakond, dtype: int64"
      ]
     },
     "execution_count": 12,
     "metadata": {},
     "output_type": "execute_result"
    },
    {
     "name": "stdout",
     "output_type": "stream",
     "text": [
      "Asutused:\n"
     ]
    },
    {
     "data": {
      "text/plain": [
       "lasteaed                    301\n",
       "põhikool                    196\n",
       "gümnaasium                  124\n",
       "lasteaed-põhikool            59\n",
       "kutseõppeasutus              10\n",
       "huvikool                      1\n",
       "täiskasvanute gümnaasium      1\n",
       "Name: Asutuse tüüp, dtype: int64"
      ]
     },
     "execution_count": 12,
     "metadata": {},
     "output_type": "execute_result"
    }
   ],
   "source": [
    "#basic check for possible typos in some columns\n",
    "print(\"Maakonnad:\")\n",
    "data['Maakond'].value_counts()\n",
    "print(\"Asutused:\")\n",
    "data['Asutuse tüüp'].value_counts()"
   ]
  },
  {
   "cell_type": "code",
   "execution_count": null,
   "id": "702ed257",
   "metadata": {},
   "outputs": [],
   "source": [
    "def "
   ]
  }
 ],
 "metadata": {
  "kernelspec": {
   "display_name": "Python 3",
   "language": "python",
   "name": "python3"
  },
  "language_info": {
   "codemirror_mode": {
    "name": "ipython",
    "version": 3
   },
   "file_extension": ".py",
   "mimetype": "text/x-python",
   "name": "python",
   "nbconvert_exporter": "python",
   "pygments_lexer": "ipython3",
   "version": "3.8.8"
  }
 },
 "nbformat": 4,
 "nbformat_minor": 5
}
